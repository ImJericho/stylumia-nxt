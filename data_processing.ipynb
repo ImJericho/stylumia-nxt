{
 "cells": [
  {
   "cell_type": "code",
   "execution_count": 32,
   "metadata": {},
   "outputs": [],
   "source": [
    "import pandas as pd \n",
    "import os\n",
    "import requests"
   ]
  },
  {
   "cell_type": "code",
   "execution_count": 38,
   "metadata": {},
   "outputs": [
    {
     "name": "stdout",
     "output_type": "stream",
     "text": [
      "category:Kurtis\n",
      "category:Dresses\n",
      "category:Saree\n",
      "category:Shirts\n",
      "category:Bathroom\n",
      "category:Watches\n",
      "category:Jeans\n",
      "category:Sneakers\n",
      "category:Earrings\n",
      "category:Tshirts\n"
     ]
    }
   ],
   "source": [
    "data_directory = 'data'\n",
    "categories = []\n",
    "data_coloumns = []\n",
    "data = {}\n",
    "\n",
    "for filename in os.listdir(data_directory):\n",
    "    if os.path.isdir(os.path.join(data_directory, filename)):\n",
    "        continue\n",
    "    cat = filename.split()[0]\n",
    "    print(f'category:{cat}')\n",
    "    categories.append(cat)\n",
    "    data[cat] = pd.read_csv(os.path.join(data_directory, filename))\n",
    "\n",
    "\n",
    "for cat, cat_data in data.items():\n",
    "    pd.set_option('display.max_columns', None)\n",
    "    # print(cat)\n",
    "    # print(cat_data.info())\n"
   ]
  },
  {
   "cell_type": "code",
   "execution_count": null,
   "metadata": {},
   "outputs": [
    {
     "name": "stdout",
     "output_type": "stream",
     "text": [
      "Column: description\n",
      "Column: category_id\n",
      "Column: meta_info\n",
      "Column: product_id\n",
      "Column: pdp_url\n",
      "Column: sku\n",
      "Column: brand\n",
      "Column: feature_image\n",
      "Column: department_id\n",
      "Column: mrp\n",
      "Column: product_name\n",
      "Column: feature_image_s3\n",
      "Column: channel_id\n",
      "Column: feature_list\n",
      "Column: style_attributes\n",
      "Column: category_name\n",
      "Column: Retailer_name\n"
     ]
    }
   ],
   "source": [
    "data_coloumns = data[categories[0]].columns\n",
    "usefull_columns = ['description', 'meta_info', 'brand', 'mrp', 'product_name','feature_list', 'style_attributes', 'category_name', 'Retailer_name']\n",
    "\n",
    "for c in data_coloumns:\n",
    "    print(f\"Column: {c}\")"
   ]
  },
  {
   "cell_type": "code",
   "execution_count": 43,
   "metadata": {},
   "outputs": [
    {
     "name": "stdout",
     "output_type": "stream",
     "text": [
      "Category: Kurtis, Data Shape: (14031, 17)\n",
      "Image downloaded successfully.\n",
      "Image downloaded successfully.\n",
      "Image downloaded successfully.\n",
      "Image downloaded successfully.\n",
      "Image downloaded successfully.\n",
      "Image downloaded successfully.\n",
      "Image downloaded successfully.\n",
      "Image downloaded successfully.\n",
      "Image downloaded successfully.\n",
      "Image downloaded successfully.\n"
     ]
    }
   ],
   "source": [
    "for cat, cat_data in data.items():\n",
    "    if(cat != 'Kurtis'):\n",
    "        continue\n",
    "    print(f\"Category: {cat}, Data Shape: {cat_data.shape}\")\n",
    "    for i in range(40):\n",
    "        if os.path.exists(f'data/image/{cat}/{i}.jpg'):\n",
    "            continue\n",
    "\n",
    "        response = requests.get(cat_data.loc[i, 'feature_image_s3'])\n",
    "        if response.status_code == 200:\n",
    "            with open(f'data/image/{cat}/{i}.jpg', 'wb') as file:\n",
    "                file.write(response.content)\n",
    "            print(\"Image downloaded successfully.\")\n",
    "        else:\n",
    "            print(\"Failed to download image.\")\n"
   ]
  },
  {
   "cell_type": "code",
   "execution_count": null,
   "metadata": {},
   "outputs": [],
   "source": []
  }
 ],
 "metadata": {
  "kernelspec": {
   "display_name": "Python 3",
   "language": "python",
   "name": "python3"
  },
  "language_info": {
   "codemirror_mode": {
    "name": "ipython",
    "version": 3
   },
   "file_extension": ".py",
   "mimetype": "text/x-python",
   "name": "python",
   "nbconvert_exporter": "python",
   "pygments_lexer": "ipython3",
   "version": "3.10.15"
  }
 },
 "nbformat": 4,
 "nbformat_minor": 2
}
